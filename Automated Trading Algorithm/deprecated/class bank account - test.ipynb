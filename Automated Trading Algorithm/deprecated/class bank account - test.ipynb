{
 "cells": [
  {
   "cell_type": "code",
   "execution_count": 38,
   "metadata": {},
   "outputs": [],
   "source": [
    "# create bank account class\n",
    "class bank_account: \n",
    "    \n",
    "    # start account with zero money\n",
    "    def __init__(self): \n",
    "        self.balance = 0\n",
    "    \n",
    "    # function to deposite amount \n",
    "    def deposit(self, amount): \n",
    "        self.balance = self.balance + amount \n",
    "        print('Amount Deposited: {}'.format(amount))\n",
    "\n",
    "    # function to withdraw the amount \n",
    "    def withdraw(self, amount):  \n",
    "        if self.balance >= amount: \n",
    "            self.balance = self.balance - amount \n",
    "            print('\\n You Withdrew: {}'.format(amount)) \n",
    "        else: \n",
    "            print(\"\\n Insufficient balance \") \n",
    "\n",
    "    # function to display the amount \n",
    "    def display(self): \n",
    "        print('\\n Net Available Balance {}'.format(self.balance)) \n",
    "    \n",
    "    # function resetting the balance to zero\n",
    "    def reset(self):\n",
    "        self.balance = 0\n",
    "        print('\\n Balance reset to zero: {}'.format(self.balance))\n"
   ]
  },
  {
   "cell_type": "code",
   "execution_count": 39,
   "metadata": {},
   "outputs": [],
   "source": [
    "s = bank_account()"
   ]
  },
  {
   "cell_type": "code",
   "execution_count": 40,
   "metadata": {},
   "outputs": [
    {
     "name": "stdout",
     "output_type": "stream",
     "text": [
      "Amount Deposited: 100\n",
      "Amount Deposited: 123\n"
     ]
    }
   ],
   "source": [
    "s.deposit(100)\n",
    "s.deposit(123)"
   ]
  },
  {
   "cell_type": "code",
   "execution_count": 35,
   "metadata": {},
   "outputs": [
    {
     "name": "stdout",
     "output_type": "stream",
     "text": [
      "\n",
      " Net Available Balance = 1092\n"
     ]
    }
   ],
   "source": [
    "s.display()"
   ]
  },
  {
   "cell_type": "code",
   "execution_count": null,
   "metadata": {},
   "outputs": [],
   "source": []
  }
 ],
 "metadata": {
  "kernelspec": {
   "display_name": "Python 3",
   "language": "python",
   "name": "python3"
  },
  "language_info": {
   "codemirror_mode": {
    "name": "ipython",
    "version": 3
   },
   "file_extension": ".py",
   "mimetype": "text/x-python",
   "name": "python",
   "nbconvert_exporter": "python",
   "pygments_lexer": "ipython3",
   "version": "3.7.4"
  }
 },
 "nbformat": 4,
 "nbformat_minor": 2
}
