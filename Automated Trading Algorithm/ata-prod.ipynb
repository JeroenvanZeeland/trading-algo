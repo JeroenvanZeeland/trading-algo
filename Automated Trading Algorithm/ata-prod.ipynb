{
 "cells": [
  {
   "cell_type": "code",
   "execution_count": 1,
   "metadata": {},
   "outputs": [],
   "source": [
    "import math\n",
    "import time\n",
    "import pandas as pd\n",
    "from tqdm import tqdm\n",
    "import yfinance as yf\n",
    "from sympy import Symbol\n",
    "from sympy.solvers import solve\n",
    "from datetime import timedelta, date"
   ]
  },
  {
   "cell_type": "code",
   "execution_count": 2,
   "metadata": {},
   "outputs": [],
   "source": [
    "from forex_python.converter import CurrencyRates\n",
    "c = CurrencyRates()\n",
    "fxRate = c.get_rate('USD', 'NOK')"
   ]
  },
  {
   "cell_type": "code",
   "execution_count": 20,
   "metadata": {},
   "outputs": [],
   "source": [
    "import datapackage\n",
    "import requests\n",
    "import io\n",
    "\n",
    "\n",
    "url = 'https://datahub.io/core/nasdaq-listings/r/1.csv'\n",
    "s = requests.get(url).content\n",
    "\n",
    "data = pd.read_csv(io.StringIO(s.decode('utf-8')))\n",
    "\n",
    "symbols = data['Symbol'].sample(100)"
   ]
  },
  {
   "cell_type": "code",
   "execution_count": 21,
   "metadata": {},
   "outputs": [
    {
     "data": {
      "text/html": [
       "<div>\n",
       "<style scoped>\n",
       "    .dataframe tbody tr th:only-of-type {\n",
       "        vertical-align: middle;\n",
       "    }\n",
       "\n",
       "    .dataframe tbody tr th {\n",
       "        vertical-align: top;\n",
       "    }\n",
       "\n",
       "    .dataframe thead th {\n",
       "        text-align: right;\n",
       "    }\n",
       "</style>\n",
       "<table border=\"1\" class=\"dataframe\">\n",
       "  <thead>\n",
       "    <tr style=\"text-align: right;\">\n",
       "      <th></th>\n",
       "      <th>Symbol</th>\n",
       "    </tr>\n",
       "  </thead>\n",
       "  <tbody>\n",
       "    <tr>\n",
       "      <td>37</td>\n",
       "      <td>ACST</td>\n",
       "    </tr>\n",
       "    <tr>\n",
       "      <td>1132</td>\n",
       "      <td>GFED</td>\n",
       "    </tr>\n",
       "    <tr>\n",
       "      <td>11</td>\n",
       "      <td>ABCB</td>\n",
       "    </tr>\n",
       "    <tr>\n",
       "      <td>1460</td>\n",
       "      <td>JASO</td>\n",
       "    </tr>\n",
       "    <tr>\n",
       "      <td>1260</td>\n",
       "      <td>HFBL</td>\n",
       "    </tr>\n",
       "    <tr>\n",
       "      <td>...</td>\n",
       "      <td>...</td>\n",
       "    </tr>\n",
       "    <tr>\n",
       "      <td>2378</td>\n",
       "      <td>SGNT</td>\n",
       "    </tr>\n",
       "    <tr>\n",
       "      <td>2892</td>\n",
       "      <td>WMGI</td>\n",
       "    </tr>\n",
       "    <tr>\n",
       "      <td>1294</td>\n",
       "      <td>HQY</td>\n",
       "    </tr>\n",
       "    <tr>\n",
       "      <td>2948</td>\n",
       "      <td>ZAZA</td>\n",
       "    </tr>\n",
       "    <tr>\n",
       "      <td>2932</td>\n",
       "      <td>XOOM</td>\n",
       "    </tr>\n",
       "  </tbody>\n",
       "</table>\n",
       "<p>100 rows × 1 columns</p>\n",
       "</div>"
      ],
      "text/plain": [
       "     Symbol\n",
       "37     ACST\n",
       "1132   GFED\n",
       "11     ABCB\n",
       "1460   JASO\n",
       "1260   HFBL\n",
       "...     ...\n",
       "2378   SGNT\n",
       "2892   WMGI\n",
       "1294    HQY\n",
       "2948   ZAZA\n",
       "2932   XOOM\n",
       "\n",
       "[100 rows x 1 columns]"
      ]
     },
     "execution_count": 21,
     "metadata": {},
     "output_type": "execute_result"
    }
   ],
   "source": [
    "symbols = pd.DataFrame(symbols)\n",
    "symbols"
   ]
  },
  {
   "cell_type": "code",
   "execution_count": 5,
   "metadata": {},
   "outputs": [],
   "source": [
    "# symbols = pd.read_csv('nasdaq-100-symbols.csv', sep = ',', header = None)"
   ]
  },
  {
   "cell_type": "code",
   "execution_count": 6,
   "metadata": {},
   "outputs": [],
   "source": [
    "def ticker(symbol):\n",
    "    t = yf.Ticker(symbol)\n",
    "    return t\n",
    "\n",
    "# h = ticker(symbol)\n",
    "# h.info"
   ]
  },
  {
   "cell_type": "code",
   "execution_count": 7,
   "metadata": {},
   "outputs": [],
   "source": [
    "def daterange(start_date, end_date):\n",
    "    for n in range(int ((end_date - start_date).days)):\n",
    "        yield start_date + timedelta(n)"
   ]
  },
  {
   "cell_type": "code",
   "execution_count": 8,
   "metadata": {},
   "outputs": [],
   "source": [
    "def tickerInformation(symbol):\n",
    "    h = ticker(symbol).history(start = date.today() - timedelta(days = 5), end = date.today())\n",
    "    \n",
    "    h['diff'] = h['Close'].diff(periods = 1)\n",
    "    closingprice = h['Close'][-1]\n",
    "    volume = h['Volume'][-1]\n",
    "    \n",
    "    if any(h['diff'] > 0) == False:\n",
    "        advice = True\n",
    "    else:\n",
    "        advice = False\n",
    "    \n",
    "    return advice, closingprice, volume"
   ]
  },
  {
   "cell_type": "code",
   "execution_count": 9,
   "metadata": {},
   "outputs": [],
   "source": [
    "def inputNumber(message):\n",
    "    while True:\n",
    "        try:\n",
    "            userInput = int(input(message))       \n",
    "        except ValueError:\n",
    "            print(\"Not an integer! Try again.\")\n",
    "            continue\n",
    "        else:\n",
    "            return userInput \n",
    "            break "
   ]
  },
  {
   "cell_type": "code",
   "execution_count": 19,
   "metadata": {},
   "outputs": [],
   "source": [
    "# df = pd.DataFrame()\n",
    "\n",
    "# columns = ['i', 'symbol', 'advice', 'price', 'price_nok', 'volume']\n",
    "# data = []\n",
    "\n",
    "# print('Generating advice for: {} \\n'.format(date.today()))\n",
    "\n",
    "# i = 1\n",
    "# for symbol in  symbols['Symbol']:\n",
    "\n",
    "#     try:\n",
    "#         advice, price, volume  = tickerInformation(symbol)\n",
    "\n",
    "\n",
    "#         if advice == True:\n",
    "\n",
    "#             print('{}. {} advice is buy: {} at {}, with volume {}'.format(i, symbol, advice, price, volume))\n",
    "\n",
    "#             price_nok = price * fxRate    \n",
    "#             values = [i, symbol, advice, price, price_nok, volume]\n",
    "#             zipped = dict(zip(columns, values))\n",
    "#             data.append(zipped)\n",
    "#             i = i + 1\n",
    "\n",
    "#     except\n",
    "# print('\\n Finished generating advice')\n",
    "\n",
    "# df = df.append(data, True)\n",
    "# df"
   ]
  },
  {
   "cell_type": "code",
   "execution_count": 22,
   "metadata": {},
   "outputs": [
    {
     "name": "stdout",
     "output_type": "stream",
     "text": [
      "Generating advice for: 2020-05-24\n"
     ]
    },
    {
     "name": "stderr",
     "output_type": "stream",
     "text": [
      "  3%|██▍                                                                               | 3/100 [00:00<00:16,  5.72it/s]"
     ]
    },
    {
     "name": "stdout",
     "output_type": "stream",
     "text": [
      "- JASO: No data found for this date range, symbol may be delisted\n",
      "JASO\n"
     ]
    },
    {
     "name": "stderr",
     "output_type": "stream",
     "text": [
      " 10%|████████                                                                         | 10/100 [00:01<00:15,  5.80it/s]"
     ]
    },
    {
     "name": "stdout",
     "output_type": "stream",
     "text": [
      "- PHMD: No data found for this date range, symbol may be delisted\n",
      "PHMD\n"
     ]
    },
    {
     "name": "stderr",
     "output_type": "stream",
     "text": [
      " 12%|█████████▋                                                                       | 12/100 [00:02<00:14,  6.16it/s]"
     ]
    },
    {
     "name": "stdout",
     "output_type": "stream",
     "text": [
      "- PSBH: No data found for this date range, symbol may be delisted\n",
      "PSBH\n"
     ]
    },
    {
     "name": "stderr",
     "output_type": "stream",
     "text": [
      "\r",
      " 13%|██████████▌                                                                      | 13/100 [00:02<00:14,  6.18it/s]"
     ]
    },
    {
     "name": "stdout",
     "output_type": "stream",
     "text": [
      "- OCLS: No data found for this date range, symbol may be delisted\n",
      "OCLS\n"
     ]
    },
    {
     "name": "stderr",
     "output_type": "stream",
     "text": [
      " 15%|████████████▏                                                                    | 15/100 [00:02<00:13,  6.30it/s]"
     ]
    },
    {
     "name": "stdout",
     "output_type": "stream",
     "text": [
      "- BOBE: No data found for this date range, symbol may be delisted\n",
      "BOBE\n"
     ]
    },
    {
     "name": "stderr",
     "output_type": "stream",
     "text": [
      " 19%|███████████████▍                                                                 | 19/100 [00:03<00:12,  6.59it/s]"
     ]
    },
    {
     "name": "stdout",
     "output_type": "stream",
     "text": [
      "- CISAW: No data found, symbol may be delisted\n",
      "CISAW\n"
     ]
    },
    {
     "name": "stderr",
     "output_type": "stream",
     "text": [
      "\r",
      " 20%|████████████████▏                                                                | 20/100 [00:03<00:11,  6.89it/s]"
     ]
    },
    {
     "name": "stdout",
     "output_type": "stream",
     "text": [
      "- FRED: No data found, symbol may be delisted\n",
      "FRED\n"
     ]
    },
    {
     "name": "stderr",
     "output_type": "stream",
     "text": [
      " 28%|██████████████████████▋                                                          | 28/100 [00:04<00:11,  6.47it/s]"
     ]
    },
    {
     "name": "stdout",
     "output_type": "stream",
     "text": [
      "- CYOU: No data found for this date range, symbol may be delisted\n",
      "CYOU\n"
     ]
    },
    {
     "name": "stderr",
     "output_type": "stream",
     "text": [
      " 33%|██████████████████████████▋                                                      | 33/100 [00:05<00:10,  6.28it/s]"
     ]
    },
    {
     "name": "stdout",
     "output_type": "stream",
     "text": [
      "- SSRG: No data found for this date range, symbol may be delisted\n",
      "SSRG\n"
     ]
    },
    {
     "name": "stderr",
     "output_type": "stream",
     "text": [
      " 39%|███████████████████████████████▌                                                 | 39/100 [00:06<00:09,  6.44it/s]"
     ]
    },
    {
     "name": "stdout",
     "output_type": "stream",
     "text": [
      "- JTPY: No data found for this date range, symbol may be delisted\n",
      "JTPY\n"
     ]
    },
    {
     "name": "stderr",
     "output_type": "stream",
     "text": [
      " 46%|█████████████████████████████████████▎                                           | 46/100 [00:07<00:08,  6.14it/s]"
     ]
    },
    {
     "name": "stdout",
     "output_type": "stream",
     "text": [
      "- CEMP: No data found for this date range, symbol may be delisted\n",
      "CEMP\n"
     ]
    },
    {
     "name": "stderr",
     "output_type": "stream",
     "text": [
      "\r",
      " 47%|██████████████████████████████████████                                           | 47/100 [00:07<00:08,  6.35it/s]"
     ]
    },
    {
     "name": "stdout",
     "output_type": "stream",
     "text": [
      "- IRG: No data found for this date range, symbol may be delisted\n",
      "IRG\n"
     ]
    },
    {
     "name": "stderr",
     "output_type": "stream",
     "text": [
      " 50%|████████████████████████████████████████▌                                        | 50/100 [00:07<00:07,  6.77it/s]"
     ]
    },
    {
     "name": "stdout",
     "output_type": "stream",
     "text": [
      "- HOTR: No data found for this date range, symbol may be delisted\n",
      "HOTR\n"
     ]
    },
    {
     "name": "stderr",
     "output_type": "stream",
     "text": [
      "\r",
      " 51%|█████████████████████████████████████████▎                                       | 51/100 [00:08<00:06,  7.01it/s]"
     ]
    },
    {
     "name": "stdout",
     "output_type": "stream",
     "text": [
      "- AFCB: No data found for this date range, symbol may be delisted\n",
      "AFCB\n"
     ]
    },
    {
     "name": "stderr",
     "output_type": "stream",
     "text": [
      " 53%|██████████████████████████████████████████▉                                      | 53/100 [00:08<00:06,  6.90it/s]"
     ]
    },
    {
     "name": "stdout",
     "output_type": "stream",
     "text": [
      "- TRTLU: No data found for this date range, symbol may be delisted\n",
      "TRTLU\n"
     ]
    },
    {
     "name": "stderr",
     "output_type": "stream",
     "text": [
      "\r",
      " 54%|███████████████████████████████████████████▋                                     | 54/100 [00:08<00:06,  7.10it/s]"
     ]
    },
    {
     "name": "stdout",
     "output_type": "stream",
     "text": [
      "- CNIT: No data found for this date range, symbol may be delisted\n",
      "CNIT\n"
     ]
    },
    {
     "name": "stderr",
     "output_type": "stream",
     "text": [
      "\r",
      " 55%|████████████████████████████████████████████▌                                    | 55/100 [00:08<00:06,  7.11it/s]"
     ]
    },
    {
     "name": "stdout",
     "output_type": "stream",
     "text": [
      "- LLTC: No data found for this date range, symbol may be delisted\n",
      "LLTC\n"
     ]
    },
    {
     "name": "stderr",
     "output_type": "stream",
     "text": [
      " 57%|██████████████████████████████████████████████▏                                  | 57/100 [00:08<00:06,  6.83it/s]"
     ]
    },
    {
     "name": "stdout",
     "output_type": "stream",
     "text": [
      "- OTIV: No data found, symbol may be delisted\n",
      "OTIV\n"
     ]
    },
    {
     "name": "stderr",
     "output_type": "stream",
     "text": [
      " 61%|█████████████████████████████████████████████████▍                               | 61/100 [00:09<00:05,  6.69it/s]"
     ]
    },
    {
     "name": "stdout",
     "output_type": "stream",
     "text": [
      "- SHLDW: No data found for this date range, symbol may be delisted\n",
      "SHLDW\n"
     ]
    },
    {
     "name": "stderr",
     "output_type": "stream",
     "text": [
      "\r",
      " 62%|██████████████████████████████████████████████████▏                              | 62/100 [00:09<00:05,  6.64it/s]"
     ]
    },
    {
     "name": "stdout",
     "output_type": "stream",
     "text": [
      "- SPPRP: No data found, symbol may be delisted\n",
      "SPPRP\n"
     ]
    },
    {
     "name": "stderr",
     "output_type": "stream",
     "text": [
      " 69%|███████████████████████████████████████████████████████▉                         | 69/100 [00:10<00:05,  6.07it/s]"
     ]
    },
    {
     "name": "stdout",
     "output_type": "stream",
     "text": [
      "- CHXF: No data found for this date range, symbol may be delisted\n",
      "CHXF\n"
     ]
    },
    {
     "name": "stderr",
     "output_type": "stream",
     "text": [
      " 71%|█████████████████████████████████████████████████████████▌                       | 71/100 [00:11<00:06,  4.59it/s]"
     ]
    },
    {
     "name": "stdout",
     "output_type": "stream",
     "text": [
      "- COCO: No data found for this date range, symbol may be delisted\n",
      "COCO\n"
     ]
    },
    {
     "name": "stderr",
     "output_type": "stream",
     "text": [
      "\r",
      " 72%|██████████████████████████████████████████████████████████▎                      | 72/100 [00:11<00:05,  4.93it/s]"
     ]
    },
    {
     "name": "stdout",
     "output_type": "stream",
     "text": [
      "- CLMS: No data found for this date range, symbol may be delisted\n",
      "CLMS\n"
     ]
    },
    {
     "name": "stderr",
     "output_type": "stream",
     "text": [
      "\r",
      " 73%|███████████████████████████████████████████████████████████▏                     | 73/100 [00:11<00:05,  5.21it/s]"
     ]
    },
    {
     "name": "stdout",
     "output_type": "stream",
     "text": [
      "- XIV: No data found, symbol may be delisted\n",
      "XIV\n"
     ]
    },
    {
     "name": "stderr",
     "output_type": "stream",
     "text": [
      " 77%|██████████████████████████████████████████████████████████████▎                  | 77/100 [00:12<00:05,  4.46it/s]"
     ]
    },
    {
     "name": "stdout",
     "output_type": "stream",
     "text": [
      "- WBB: No data found for this date range, symbol may be delisted\n",
      "WBB\n"
     ]
    },
    {
     "name": "stderr",
     "output_type": "stream",
     "text": [
      " 79%|███████████████████████████████████████████████████████████████▉                 | 79/100 [00:13<00:04,  4.44it/s]"
     ]
    },
    {
     "name": "stdout",
     "output_type": "stream",
     "text": [
      "- CLAC: No data found for this date range, symbol may be delisted\n",
      "CLAC\n"
     ]
    },
    {
     "name": "stderr",
     "output_type": "stream",
     "text": [
      " 82%|██████████████████████████████████████████████████████████████████▍              | 82/100 [00:13<00:04,  4.47it/s]"
     ]
    },
    {
     "name": "stdout",
     "output_type": "stream",
     "text": [
      "- IFNA: No data found, symbol may be delisted\n",
      "IFNA\n"
     ]
    },
    {
     "name": "stderr",
     "output_type": "stream",
     "text": [
      " 85%|████████████████████████████████████████████████████████████████████▊            | 85/100 [00:14<00:03,  4.66it/s]"
     ]
    },
    {
     "name": "stdout",
     "output_type": "stream",
     "text": [
      "- HDRAW: No data found, symbol may be delisted\n",
      "HDRAW\n"
     ]
    },
    {
     "name": "stderr",
     "output_type": "stream",
     "text": [
      " 87%|██████████████████████████████████████████████████████████████████████▍          | 87/100 [00:14<00:02,  4.68it/s]"
     ]
    },
    {
     "name": "stdout",
     "output_type": "stream",
     "text": [
      "- ERS: No data found for this date range, symbol may be delisted\n",
      "ERS\n"
     ]
    },
    {
     "name": "stderr",
     "output_type": "stream",
     "text": [
      " 89%|████████████████████████████████████████████████████████████████████████         | 89/100 [00:15<00:02,  4.72it/s]"
     ]
    },
    {
     "name": "stdout",
     "output_type": "stream",
     "text": [
      "- BVA: No data found for this date range, symbol may be delisted\n",
      "BVA\n"
     ]
    },
    {
     "name": "stderr",
     "output_type": "stream",
     "text": [
      "\r",
      " 90%|████████████████████████████████████████████████████████████████████████▉        | 90/100 [00:15<00:02,  4.88it/s]"
     ]
    },
    {
     "name": "stdout",
     "output_type": "stream",
     "text": [
      "- JXSB: No data found for this date range, symbol may be delisted\n",
      "JXSB\n"
     ]
    },
    {
     "name": "stderr",
     "output_type": "stream",
     "text": [
      "\r",
      " 91%|█████████████████████████████████████████████████████████████████████████▋       | 91/100 [00:15<00:01,  4.95it/s]"
     ]
    },
    {
     "name": "stdout",
     "output_type": "stream",
     "text": [
      "- CHKE: No data found, symbol may be delisted\n",
      "CHKE\n"
     ]
    },
    {
     "name": "stderr",
     "output_type": "stream",
     "text": [
      " 95%|████████████████████████████████████████████████████████████████████████████▉    | 95/100 [00:16<00:00,  5.47it/s]"
     ]
    },
    {
     "name": "stdout",
     "output_type": "stream",
     "text": [
      "- SGNT: No data found for this date range, symbol may be delisted\n",
      "SGNT\n"
     ]
    },
    {
     "name": "stderr",
     "output_type": "stream",
     "text": [
      " 99%|████████████████████████████████████████████████████████████████████████████████▏| 99/100 [00:17<00:00,  6.05it/s]"
     ]
    },
    {
     "name": "stdout",
     "output_type": "stream",
     "text": [
      "- XOOM: No data found for this date range, symbol may be delisted\n",
      "XOOM\n"
     ]
    },
    {
     "name": "stderr",
     "output_type": "stream",
     "text": [
      "100%|████████████████████████████████████████████████████████████████████████████████| 100/100 [00:17<00:00,  5.84it/s]\n"
     ]
    },
    {
     "name": "stdout",
     "output_type": "stream",
     "text": [
      "Finished generating advice\n"
     ]
    }
   ],
   "source": [
    "df = pd.DataFrame()\n",
    "columns = ['symbol', 'advice', 'price', 'price_nok', 'volume']\n",
    "data = []\n",
    "\n",
    "print('Generating advice for: {}'.format(date.today()))\n",
    "for symbol in  tqdm(symbols['Symbol']):\n",
    "\n",
    "    try:\n",
    "        advice, price, volume  = tickerInformation(symbol)\n",
    "        price_nok = price * fxRate\n",
    "\n",
    "        values = [symbol, advice, price, price_nok, volume, date.today()]\n",
    "        zipped = dict(zip(columns, values))\n",
    "        data.append(zipped)\n",
    "    except:\n",
    "        print(symbol)\n",
    "        \n",
    "print('Finished generating advice')\n",
    "\n",
    "df = df.append(data, True)\n",
    "sdf = df[df['advice'] == True]"
   ]
  },
  {
   "cell_type": "markdown",
   "metadata": {},
   "source": [
    "## Generate and send email"
   ]
  },
  {
   "cell_type": "code",
   "execution_count": 23,
   "metadata": {},
   "outputs": [],
   "source": [
    "import smtplib\n",
    "\n",
    "sender   = 'jeroenvanzeeland@gmail.com'\n",
    "receiver = 'jeroenvanzeeland@gmail.com'\n",
    "password = 'wcygowtisepcknbi'\n",
    "\n",
    "smtpserver = smtplib.SMTP('smtp.gmail.com', 587)\n",
    "smtpserver.ehlo()\n",
    "smtpserver.starttls()\n",
    "smtpserver.ehlo\n",
    "smtpserver.login(sender, password)\n",
    "\n",
    "date = date.today()\n",
    "\n",
    "msg = \"\"\"From: Ata\n",
    "Subject:Automated purchase advice - digest \\n\n",
    "\n",
    "The advice for {} is to buy the following products:\n",
    "\n",
    "df: {}\"\"\".format(date, sdf)\n",
    "\n",
    "smtpserver.sendmail(sender, receiver, msg)\n",
    "\n",
    "smtpserver.close()"
   ]
  },
  {
   "cell_type": "code",
   "execution_count": null,
   "metadata": {},
   "outputs": [],
   "source": []
  }
 ],
 "metadata": {
  "kernelspec": {
   "display_name": "Python 3",
   "language": "python",
   "name": "python3"
  },
  "language_info": {
   "codemirror_mode": {
    "name": "ipython",
    "version": 3
   },
   "file_extension": ".py",
   "mimetype": "text/x-python",
   "name": "python",
   "nbconvert_exporter": "python",
   "pygments_lexer": "ipython3",
   "version": "3.7.4"
  }
 },
 "nbformat": 4,
 "nbformat_minor": 2
}
