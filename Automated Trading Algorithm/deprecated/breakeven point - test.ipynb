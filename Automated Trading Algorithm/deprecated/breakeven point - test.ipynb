{
 "cells": [
  {
   "cell_type": "code",
   "execution_count": 66,
   "metadata": {},
   "outputs": [],
   "source": [
    "from sympy.solvers import solve\n",
    "from sympy import Symbol\n",
    "import math\n",
    "\n",
    "x = Symbol('x') # selling price\n",
    "n = Symbol('n') # no_stock\n",
    "\n",
    "balance = 15000\n",
    "price_buy = 140.7\n",
    "markup = 1.05\n",
    "\n",
    "VARIABLE_COST = 0.01\n",
    "FIXED_COST    = 7.9"
   ]
  },
  {
   "cell_type": "markdown",
   "metadata": {},
   "source": [
    "# Fixed cost"
   ]
  },
  {
   "cell_type": "code",
   "execution_count": null,
   "metadata": {},
   "outputs": [],
   "source": [
    "cost_buy = FIXED_COST\n",
    "cost_sell = FIXED_COST\n",
    "total_cost = cost_buy + cost_sell\n",
    "no_stocks = (balance - total_cost) / price_buy\n",
    "print('no_stocks you can buy {}'.format(no_stocks))\n",
    "\n",
    "x = Symbol('x') # selling price\n",
    "bep = solve(((x - price_buy) * no_stocks / markup) - total_cost, x)\n",
    "price_sell = bep[0]\n",
    "print('breakeven / selling point inc. margin {} NOK'.format(price_sell))\n",
    "\n",
    "\n",
    "# for later comparison to variable cost\n",
    "fixed_bep = price_sell\n",
    "fixed_no_stocks = no_stocks\n",
    "fixed_cost_buy = cost_buy\n",
    "fixed_cost_sell = cost_sell"
   ]
  },
  {
   "cell_type": "markdown",
   "metadata": {},
   "source": [
    "# Variable cost"
   ]
  },
  {
   "cell_type": "code",
   "execution_count": 68,
   "metadata": {},
   "outputs": [
    {
     "name": "stdout",
     "output_type": "stream",
     "text": [
      "no_stocks you can buy 104.497677184022\n",
      "breakeven / selling point inc. margin 143.686053562405 NOK\n"
     ]
    }
   ],
   "source": [
    "cost_buy = n * price_buy * VARIABLE_COST\n",
    "cost_sell = n * x * VARIABLE_COST\n",
    "total_cost = cost_buy + cost_sell\n",
    "\n",
    "# no_stocks = n - (balance - total_cost) / price_buy\n",
    "bep = (((x - price_buy) * n) / markup) - total_cost\n",
    "bep = solve([bep, n - ((balance - total_cost) / price_buy)], dict = True)\n",
    "\n",
    "no_stocks = bep[0][n]\n",
    "price_sell = bep[0][x]\n",
    "\n",
    "print('no_stocks you can buy {}'.format(no_stocks))\n",
    "print('breakeven / selling point inc. margin {} NOK'.format(price_sell))\n",
    "\n",
    "\n",
    "var_bep = price_sell\n",
    "var_no_stocks = no_stocks\n",
    "var_cost_buy = price_buy * no_stocks * VARIABLE_COST\n",
    "var_cost_sell = price_sell * no_stocks * VARIABLE_COST"
   ]
  },
  {
   "cell_type": "code",
   "execution_count": 69,
   "metadata": {},
   "outputs": [
    {
     "name": "stdout",
     "output_type": "stream",
     "text": [
      "var\n",
      "104 143.686053562405 295.761495704902\n"
     ]
    }
   ],
   "source": [
    "if (fixed_cost_buy > var_cost_buy) & (fixed_cost_sell > var_cost_sell):\n",
    "    \n",
    "    print('fixed')\n",
    "    rate_type  = 'fixed'\n",
    "    total_cost = fixed_cost_buy + fixed_cost_buy\n",
    "    no_stocks  = math.floor(fixed_no_stocks)\n",
    "    bep        = solve(((x - price_buy) * no_stocks / markup) - total_cost, x)\n",
    "    price_sell = bep[0]\n",
    "    \n",
    "elif (fixed_cost_buy < var_cost_buy) & (fixed_cost_sell < var_cost_sell):\n",
    "    \n",
    "    print('var')\n",
    "    rate_type  = 'variable'\n",
    "    no_stocks  = math.floor(var_no_stocks)\n",
    "    bep        = solve(((x - price_buy) * no_stocks / markup) - no_stocks * VARIABLE_COST * (price_buy + x), x)\n",
    "    price_sell = bep[0]\n",
    "    total_cost = no_stocks * VARIABLE_COST * (price_buy + price_sell)\n",
    "    print(no_stocks, price_sell, total_cost)\n",
    "    \n",
    "else:\n",
    "    \n",
    "    \"We have different variable cost and fixed cost - solve this issue as it arises.\""
   ]
  },
  {
   "cell_type": "code",
   "execution_count": 70,
   "metadata": {},
   "outputs": [
    {
     "name": "stdout",
     "output_type": "stream",
     "text": [
      "You pay a variable rate for this transaction.\n",
      "You can buy: 104 stocks, sell them at: 143.69 NOK, at a total cost: 295.76 NOK\n"
     ]
    }
   ],
   "source": [
    "print('You pay a {} rate for this transaction.'.format(rate_type))\n",
    "print('You can buy: {} stocks, sell them at: {} NOK, at a total cost: {} NOK'\n",
    "                  .format(no_stocks, round(price_sell,2), round(total_cost, 2)))"
   ]
  },
  {
   "cell_type": "markdown",
   "metadata": {},
   "source": [
    "# As a function"
   ]
  },
  {
   "cell_type": "code",
   "execution_count": 102,
   "metadata": {},
   "outputs": [],
   "source": [
    "from sympy.solvers import solve\n",
    "from sympy import Symbol\n",
    "import math\n",
    "\n",
    "def bep(balance, price_buy):\n",
    "    \n",
    "    x = Symbol('x') # selling price\n",
    "    n = Symbol('n') # no_stock\n",
    "    \n",
    "    MARKUP = 1.05\n",
    "    VARIABLE_COST = 0.01\n",
    "    FIXED_COST    = 7.9\n",
    "    \n",
    "    #######################\n",
    "    # fixed cost analysis #\n",
    "    #######################\n",
    "    cost_buy = FIXED_COST\n",
    "    cost_sell = FIXED_COST\n",
    "    total_cost = cost_buy + cost_sell\n",
    "    no_stocks = (balance - total_cost) / price_buy\n",
    "\n",
    "    x = Symbol('x') # selling price\n",
    "    bep = solve(((x - price_buy) * no_stocks / MARKUP) - total_cost, x)\n",
    "    price_sell = bep[0]\n",
    "    print('In a FIXED-cost scenario you can buy {} stocks'.format(no_stocks))\n",
    "    print('The selling point inc. margin is then {} NOK \\n'.format(price_sell))\n",
    "\n",
    "    fixed_bep = price_sell\n",
    "    fixed_no_stocks = no_stocks\n",
    "    fixed_cost_buy = cost_buy\n",
    "    fixed_cost_sell = cost_sell\n",
    "    \n",
    "    ##########################\n",
    "    # variable cost analysis #\n",
    "    ##########################\n",
    "    cost_buy = n * price_buy * VARIABLE_COST\n",
    "    cost_sell = n * x * VARIABLE_COST\n",
    "    total_cost = cost_buy + cost_sell\n",
    "\n",
    "    bep = (((x - price_buy) * n) / MARKUP) - total_cost # no_stocks = n - (balance - total_cost) / price_buy\n",
    "    bep = solve([bep, n - ((balance - total_cost) / price_buy)], dict = True)\n",
    "\n",
    "    no_stocks = bep[0][n]\n",
    "    price_sell = bep[0][x]\n",
    "    print('In a VARIABLE-cost scenario you can buy {} stocks'.format(no_stocks))\n",
    "    print('The selling point inc. margin is then {} NOK \\n'.format(price_sell))\n",
    "\n",
    "    var_bep = price_sell\n",
    "    var_no_stocks = no_stocks\n",
    "    var_cost_buy = price_buy * no_stocks * VARIABLE_COST\n",
    "    var_cost_sell = price_sell * no_stocks * VARIABLE_COST\n",
    "    \n",
    "    ########################\n",
    "    # Resolve fixed vs var #\n",
    "    ########################\n",
    "    \n",
    "    try: \n",
    "        if (fixed_cost_buy > var_cost_buy) & (fixed_cost_sell > var_cost_sell):\n",
    "            print('fixed \\n')\n",
    "            rate_type  = 'fixed'\n",
    "            total_cost = fixed_cost_buy + fixed_cost_buy\n",
    "            no_stocks  = math.floor(fixed_no_stocks)\n",
    "            bep        = solve(((x - price_buy) * no_stocks / markup) - total_cost, x)\n",
    "            price_sell = bep[0]\n",
    "\n",
    "        elif (fixed_cost_buy < var_cost_buy) & (fixed_cost_sell < var_cost_sell):\n",
    "            print('var \\n')\n",
    "            rate_type  = 'variable'\n",
    "            no_stocks  = math.floor(var_no_stocks)\n",
    "            bep        = solve(((x - price_buy) * no_stocks / markup) - no_stocks * VARIABLE_COST * (price_buy + x), x)\n",
    "            price_sell = bep[0]\n",
    "            total_cost = no_stocks * VARIABLE_COST * (price_buy + price_sell)\n",
    "\n",
    "        else:\n",
    "            \"We have different variable cost and fixed cost - solve this issue as it arises.\"\n",
    "    \n",
    "    except:\n",
    "        print('Not enough money to purchase a single stock \\n')\n",
    "        no_stocks = 0\n",
    "        price_sell = 0\n",
    "        total_cost = 0\n",
    "    \n",
    "    print('You pay a {} rate for this transaction.'.format(rate_type))\n",
    "    print('You can buy: {} stocks, sell them at: {} NOK, at a total cost: {} NOK'\n",
    "                  .format(no_stocks, round(price_sell,2), round(total_cost, 2)))\n",
    "    \n",
    "    return no_stocks, price_sell\n"
   ]
  },
  {
   "cell_type": "code",
   "execution_count": 103,
   "metadata": {},
   "outputs": [
    {
     "name": "stdout",
     "output_type": "stream",
     "text": [
      "In a FIXED-cost scenario you can buy 0.9538024164889837 stocks\n",
      "The selling point inc. margin is then 158.093539493294 NOK \n",
      "\n",
      "In a VARIABLE-cost scenario you can buy 1.04497677184023 stocks\n",
      "The selling point inc. margin is then 143.686053562405 NOK \n",
      "\n",
      "fixed \n",
      "\n",
      "Not enough money to purchase a single stock \n",
      "\n",
      "You pay a fixed rate for this transaction.\n",
      "You can buy: 0 stocks, sell them at: 0 NOK, at a total cost: 0 NOK\n"
     ]
    }
   ],
   "source": [
    "balance = 150\n",
    "price_buy = 140.7\n",
    "\n",
    "no_stocks, price_sell = bep(balance, price_buy)"
   ]
  },
  {
   "cell_type": "code",
   "execution_count": null,
   "metadata": {},
   "outputs": [],
   "source": []
  },
  {
   "cell_type": "code",
   "execution_count": null,
   "metadata": {},
   "outputs": [],
   "source": []
  }
 ],
 "metadata": {
  "kernelspec": {
   "display_name": "Python 3",
   "language": "python",
   "name": "python3"
  },
  "language_info": {
   "codemirror_mode": {
    "name": "ipython",
    "version": 3
   },
   "file_extension": ".py",
   "mimetype": "text/x-python",
   "name": "python",
   "nbconvert_exporter": "python",
   "pygments_lexer": "ipython3",
   "version": "3.7.4"
  }
 },
 "nbformat": 4,
 "nbformat_minor": 2
}
