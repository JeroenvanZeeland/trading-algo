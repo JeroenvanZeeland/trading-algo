{
 "cells": [
  {
   "cell_type": "code",
   "execution_count": 1,
   "metadata": {},
   "outputs": [],
   "source": [
    "import pandas as pd\n",
    "symbols = pd.read_csv('nasdaq-100-symbols.csv', sep = ',', header = None)"
   ]
  },
  {
   "cell_type": "code",
   "execution_count": 2,
   "metadata": {},
   "outputs": [],
   "source": [
    "from datetime import timedelta, date\n",
    "import math\n",
    "import pandas as pd\n",
    "import yfinance as yf\n",
    "from sympy.solvers import solve\n",
    "from sympy import Symbol"
   ]
  },
  {
   "cell_type": "code",
   "execution_count": 32,
   "metadata": {},
   "outputs": [],
   "source": [
    "def ticker(symbol):\n",
    "    t = yf.Ticker(symbol)\n",
    "    return t\n",
    "\n",
    "# h = ticker(symbol)\n",
    "# h.info"
   ]
  },
  {
   "cell_type": "code",
   "execution_count": 4,
   "metadata": {},
   "outputs": [],
   "source": [
    "def daterange(start_date, end_date):\n",
    "    for n in range(int ((end_date - start_date).days)):\n",
    "        yield start_date + timedelta(n)"
   ]
  },
  {
   "cell_type": "code",
   "execution_count": 5,
   "metadata": {},
   "outputs": [],
   "source": [
    "def tickerInformation(symbol):\n",
    "    h = ticker(symbol).history(start = date.today() - timedelta(days = 5), end = date.today())\n",
    "    \n",
    "    h['diff'] = h['Close'].diff(periods = 1)\n",
    "    closingprice = h['Close'][-1]\n",
    "    volume = h['Volume'][-1]\n",
    "    \n",
    "    if any(h['diff'] > 0) == False:\n",
    "        advice = True\n",
    "    else:\n",
    "        advice = False\n",
    "    \n",
    "    return advice, closingprice, volume"
   ]
  },
  {
   "cell_type": "code",
   "execution_count": 6,
   "metadata": {},
   "outputs": [],
   "source": [
    "def inputNumber(message):\n",
    "    while True:\n",
    "        try:\n",
    "            userInput = int(input(message))       \n",
    "        except ValueError:\n",
    "            print(\"Not an integer! Try again.\")\n",
    "            continue\n",
    "        else:\n",
    "            return userInput \n",
    "            break "
   ]
  },
  {
   "cell_type": "code",
   "execution_count": 7,
   "metadata": {},
   "outputs": [],
   "source": [
    "from forex_python.converter import CurrencyRates\n",
    "c = CurrencyRates()\n",
    "fxRate = c.get_rate('USD', 'NOK')"
   ]
  },
  {
   "cell_type": "code",
   "execution_count": null,
   "metadata": {},
   "outputs": [],
   "source": [
    "df = pd.DataFrame()\n",
    "\n",
    "columns = ['i', 'symbol', 'advice', 'price', 'price_nok', 'volume']\n",
    "data = []\n",
    "\n",
    "print('Generating advice for: {} \\n'.format(date.today()))\n",
    "\n",
    "i = 1\n",
    "for symbol in  symbols[0]:\n",
    "\n",
    "    advice, price, volume  = tickerInformation(symbol)\n",
    "\n",
    "    \n",
    "    if advice == True:\n",
    "        \n",
    "        print('{}. {} advice is buy: {} at {}, with volume {}'.format(i, symbol, advice, price, volume))\n",
    "        \n",
    "        price_nok = price * fxRate    \n",
    "        values = [i, symbol, advice, price, price_nok, volume]\n",
    "        zipped = dict(zip(columns, values))\n",
    "        data.append(zipped)\n",
    "        i = i + 1\n",
    "        \n",
    "print('\\n Finished generating advice')\n",
    "\n",
    "df = df.append(data, True)\n",
    "df"
   ]
  },
  {
   "cell_type": "code",
   "execution_count": 8,
   "metadata": {},
   "outputs": [
    {
     "name": "stdout",
     "output_type": "stream",
     "text": [
      "Generating advice for: 2020-05-24\n"
     ]
    },
    {
     "name": "stderr",
     "output_type": "stream",
     "text": [
      "100%|████████████████████████████████████████████████████████████████████████████████| 100/100 [00:17<00:00,  5.84it/s]\n"
     ]
    },
    {
     "name": "stdout",
     "output_type": "stream",
     "text": [
      "Finished generating advice\n"
     ]
    },
    {
     "data": {
      "text/html": [
       "<div>\n",
       "<style scoped>\n",
       "    .dataframe tbody tr th:only-of-type {\n",
       "        vertical-align: middle;\n",
       "    }\n",
       "\n",
       "    .dataframe tbody tr th {\n",
       "        vertical-align: top;\n",
       "    }\n",
       "\n",
       "    .dataframe thead th {\n",
       "        text-align: right;\n",
       "    }\n",
       "</style>\n",
       "<table border=\"1\" class=\"dataframe\">\n",
       "  <thead>\n",
       "    <tr style=\"text-align: right;\">\n",
       "      <th></th>\n",
       "      <th>i</th>\n",
       "      <th>symbol</th>\n",
       "      <th>advice</th>\n",
       "      <th>price</th>\n",
       "      <th>price_nok</th>\n",
       "      <th>volume</th>\n",
       "    </tr>\n",
       "  </thead>\n",
       "  <tbody>\n",
       "    <tr>\n",
       "      <td>54</td>\n",
       "      <td>55</td>\n",
       "      <td>LBTYA</td>\n",
       "      <td>True</td>\n",
       "      <td>20.84</td>\n",
       "      <td>208.472627</td>\n",
       "      <td>951800</td>\n",
       "    </tr>\n",
       "    <tr>\n",
       "      <td>55</td>\n",
       "      <td>56</td>\n",
       "      <td>LBTYK</td>\n",
       "      <td>True</td>\n",
       "      <td>20.49</td>\n",
       "      <td>204.971407</td>\n",
       "      <td>2914000</td>\n",
       "    </tr>\n",
       "    <tr>\n",
       "      <td>67</td>\n",
       "      <td>68</td>\n",
       "      <td>NFLX</td>\n",
       "      <td>True</td>\n",
       "      <td>429.32</td>\n",
       "      <td>4294.696163</td>\n",
       "      <td>5419500</td>\n",
       "    </tr>\n",
       "  </tbody>\n",
       "</table>\n",
       "</div>"
      ],
      "text/plain": [
       "     i symbol  advice   price    price_nok   volume\n",
       "54  55  LBTYA    True   20.84   208.472627   951800\n",
       "55  56  LBTYK    True   20.49   204.971407  2914000\n",
       "67  68   NFLX    True  429.32  4294.696163  5419500"
      ]
     },
     "execution_count": 8,
     "metadata": {},
     "output_type": "execute_result"
    }
   ],
   "source": [
    "import time\n",
    "from tqdm import tqdm\n",
    "\n",
    "df = pd.DataFrame()\n",
    "columns = ['i','symbol', 'advice', 'price', 'price_nok', 'volume']\n",
    "data = []\n",
    "\n",
    "print('Generating advice for: {}'.format(date.today()))\n",
    "for symbol in  tqdm(symbols[0]):\n",
    "\n",
    "    advice, price, volume  = tickerInformation(symbol)\n",
    "    price_nok = price * fxRate\n",
    "    \n",
    "    values = [i, symbol, advice, price, price_nok, volume, date.today()]\n",
    "    zipped = dict(zip(columns, values))\n",
    "    data.append(zipped)\n",
    "    \n",
    "print('Finished generating advice')\n",
    "\n",
    "df = df.append(data, True)\n",
    "print(df[df['advice'] == True])"
   ]
  },
  {
   "cell_type": "code",
   "execution_count": 39,
   "metadata": {},
   "outputs": [
    {
     "ename": "SMTPAuthenticationError",
     "evalue": "(534, b'5.7.9 Application-specific password required. Learn more at\\n5.7.9  https://support.google.com/mail/?p=InvalidSecondFactor c8sm3769680lfc.46 - gsmtp')",
     "output_type": "error",
     "traceback": [
      "\u001b[1;31m---------------------------------------------------------------------------\u001b[0m",
      "\u001b[1;31mSMTPAuthenticationError\u001b[0m                   Traceback (most recent call last)",
      "\u001b[1;32m<ipython-input-39-1f25945cd8f8>\u001b[0m in \u001b[0;36m<module>\u001b[1;34m\u001b[0m\n\u001b[0;32m      9\u001b[0m \u001b[0mmail\u001b[0m\u001b[1;33m.\u001b[0m\u001b[0mstarttls\u001b[0m\u001b[1;33m(\u001b[0m\u001b[1;33m)\u001b[0m\u001b[1;33m\u001b[0m\u001b[1;33m\u001b[0m\u001b[0m\n\u001b[0;32m     10\u001b[0m \u001b[1;33m\u001b[0m\u001b[0m\n\u001b[1;32m---> 11\u001b[1;33m \u001b[0mmail\u001b[0m\u001b[1;33m.\u001b[0m\u001b[0mlogin\u001b[0m\u001b[1;33m(\u001b[0m\u001b[1;34m'jeroenvanzeeland@gmail.com'\u001b[0m\u001b[1;33m,\u001b[0m \u001b[1;34m'x45fg21!q'\u001b[0m\u001b[1;33m)\u001b[0m\u001b[1;33m\u001b[0m\u001b[1;33m\u001b[0m\u001b[0m\n\u001b[0m\u001b[0;32m     12\u001b[0m \u001b[1;33m\u001b[0m\u001b[0m\n\u001b[0;32m     13\u001b[0m \u001b[0mmail\u001b[0m\u001b[1;33m.\u001b[0m\u001b[0msendmail\u001b[0m\u001b[1;33m(\u001b[0m\u001b[1;34m'frommail'\u001b[0m\u001b[1;33m,\u001b[0m \u001b[1;34m'receiver'\u001b[0m\u001b[1;33m,\u001b[0m \u001b[0mcontent\u001b[0m\u001b[1;33m)\u001b[0m\u001b[1;33m\u001b[0m\u001b[1;33m\u001b[0m\u001b[0m\n",
      "\u001b[1;32mC:\\ProgramData\\Anaconda3\\lib\\smtplib.py\u001b[0m in \u001b[0;36mlogin\u001b[1;34m(self, user, password, initial_response_ok)\u001b[0m\n\u001b[0;32m    728\u001b[0m \u001b[1;33m\u001b[0m\u001b[0m\n\u001b[0;32m    729\u001b[0m         \u001b[1;31m# We could not login successfully.  Return result of last attempt.\u001b[0m\u001b[1;33m\u001b[0m\u001b[1;33m\u001b[0m\u001b[1;33m\u001b[0m\u001b[0m\n\u001b[1;32m--> 730\u001b[1;33m         \u001b[1;32mraise\u001b[0m \u001b[0mlast_exception\u001b[0m\u001b[1;33m\u001b[0m\u001b[1;33m\u001b[0m\u001b[0m\n\u001b[0m\u001b[0;32m    731\u001b[0m \u001b[1;33m\u001b[0m\u001b[0m\n\u001b[0;32m    732\u001b[0m     \u001b[1;32mdef\u001b[0m \u001b[0mstarttls\u001b[0m\u001b[1;33m(\u001b[0m\u001b[0mself\u001b[0m\u001b[1;33m,\u001b[0m \u001b[0mkeyfile\u001b[0m\u001b[1;33m=\u001b[0m\u001b[1;32mNone\u001b[0m\u001b[1;33m,\u001b[0m \u001b[0mcertfile\u001b[0m\u001b[1;33m=\u001b[0m\u001b[1;32mNone\u001b[0m\u001b[1;33m,\u001b[0m \u001b[0mcontext\u001b[0m\u001b[1;33m=\u001b[0m\u001b[1;32mNone\u001b[0m\u001b[1;33m)\u001b[0m\u001b[1;33m:\u001b[0m\u001b[1;33m\u001b[0m\u001b[1;33m\u001b[0m\u001b[0m\n",
      "\u001b[1;32mC:\\ProgramData\\Anaconda3\\lib\\smtplib.py\u001b[0m in \u001b[0;36mlogin\u001b[1;34m(self, user, password, initial_response_ok)\u001b[0m\n\u001b[0;32m    719\u001b[0m                 (code, resp) = self.auth(\n\u001b[0;32m    720\u001b[0m                     \u001b[0mauthmethod\u001b[0m\u001b[1;33m,\u001b[0m \u001b[0mgetattr\u001b[0m\u001b[1;33m(\u001b[0m\u001b[0mself\u001b[0m\u001b[1;33m,\u001b[0m \u001b[0mmethod_name\u001b[0m\u001b[1;33m)\u001b[0m\u001b[1;33m,\u001b[0m\u001b[1;33m\u001b[0m\u001b[1;33m\u001b[0m\u001b[0m\n\u001b[1;32m--> 721\u001b[1;33m                     initial_response_ok=initial_response_ok)\n\u001b[0m\u001b[0;32m    722\u001b[0m                 \u001b[1;31m# 235 == 'Authentication successful'\u001b[0m\u001b[1;33m\u001b[0m\u001b[1;33m\u001b[0m\u001b[1;33m\u001b[0m\u001b[0m\n\u001b[0;32m    723\u001b[0m                 \u001b[1;31m# 503 == 'Error: already authenticated'\u001b[0m\u001b[1;33m\u001b[0m\u001b[1;33m\u001b[0m\u001b[1;33m\u001b[0m\u001b[0m\n",
      "\u001b[1;32mC:\\ProgramData\\Anaconda3\\lib\\smtplib.py\u001b[0m in \u001b[0;36mauth\u001b[1;34m(self, mechanism, authobject, initial_response_ok)\u001b[0m\n\u001b[0;32m    640\u001b[0m         \u001b[1;32mif\u001b[0m \u001b[0mcode\u001b[0m \u001b[1;32min\u001b[0m \u001b[1;33m(\u001b[0m\u001b[1;36m235\u001b[0m\u001b[1;33m,\u001b[0m \u001b[1;36m503\u001b[0m\u001b[1;33m)\u001b[0m\u001b[1;33m:\u001b[0m\u001b[1;33m\u001b[0m\u001b[1;33m\u001b[0m\u001b[0m\n\u001b[0;32m    641\u001b[0m             \u001b[1;32mreturn\u001b[0m \u001b[1;33m(\u001b[0m\u001b[0mcode\u001b[0m\u001b[1;33m,\u001b[0m \u001b[0mresp\u001b[0m\u001b[1;33m)\u001b[0m\u001b[1;33m\u001b[0m\u001b[1;33m\u001b[0m\u001b[0m\n\u001b[1;32m--> 642\u001b[1;33m         \u001b[1;32mraise\u001b[0m \u001b[0mSMTPAuthenticationError\u001b[0m\u001b[1;33m(\u001b[0m\u001b[0mcode\u001b[0m\u001b[1;33m,\u001b[0m \u001b[0mresp\u001b[0m\u001b[1;33m)\u001b[0m\u001b[1;33m\u001b[0m\u001b[1;33m\u001b[0m\u001b[0m\n\u001b[0m\u001b[0;32m    643\u001b[0m \u001b[1;33m\u001b[0m\u001b[0m\n\u001b[0;32m    644\u001b[0m     \u001b[1;32mdef\u001b[0m \u001b[0mauth_cram_md5\u001b[0m\u001b[1;33m(\u001b[0m\u001b[0mself\u001b[0m\u001b[1;33m,\u001b[0m \u001b[0mchallenge\u001b[0m\u001b[1;33m=\u001b[0m\u001b[1;32mNone\u001b[0m\u001b[1;33m)\u001b[0m\u001b[1;33m:\u001b[0m\u001b[1;33m\u001b[0m\u001b[1;33m\u001b[0m\u001b[0m\n",
      "\u001b[1;31mSMTPAuthenticationError\u001b[0m: (534, b'5.7.9 Application-specific password required. Learn more at\\n5.7.9  https://support.google.com/mail/?p=InvalidSecondFactor c8sm3769680lfc.46 - gsmtp')"
     ]
    }
   ],
   "source": [
    "import smtplib\n",
    "\n",
    "content = 'ahoi'\n",
    "\n",
    "mail = smtplib.SMTP('smtp.gmail.com', 587)\n",
    "\n",
    "mail.ehlo\n",
    "\n",
    "mail.starttls()\n",
    "\n",
    "mail.login('jeroenvanzeeland@gmail.com', 'x45fg21!q')\n",
    "\n",
    "mail.sendmail('frommail', 'receiver', content)\n",
    "\n",
    "mail.close()"
   ]
  },
  {
   "cell_type": "markdown",
   "metadata": {},
   "source": [
    "# purchase an adviced stock\n",
    "\n",
    "This next part needs to be after \"login\" because I need to check if I have cash to buy the adviced stock"
   ]
  },
  {
   "cell_type": "code",
   "execution_count": null,
   "metadata": {},
   "outputs": [],
   "source": []
  },
  {
   "cell_type": "code",
   "execution_count": 9,
   "metadata": {},
   "outputs": [
    {
     "name": "stdout",
     "output_type": "stream",
     "text": [
      "\n",
      " Which stock (i) would you like to invest in? 68\n"
     ]
    }
   ],
   "source": [
    "n = inputNumber('\\n Which stock (i) would you like to invest in? ')"
   ]
  },
  {
   "cell_type": "code",
   "execution_count": 10,
   "metadata": {},
   "outputs": [
    {
     "data": {
      "text/html": [
       "<div>\n",
       "<style scoped>\n",
       "    .dataframe tbody tr th:only-of-type {\n",
       "        vertical-align: middle;\n",
       "    }\n",
       "\n",
       "    .dataframe tbody tr th {\n",
       "        vertical-align: top;\n",
       "    }\n",
       "\n",
       "    .dataframe thead th {\n",
       "        text-align: right;\n",
       "    }\n",
       "</style>\n",
       "<table border=\"1\" class=\"dataframe\">\n",
       "  <thead>\n",
       "    <tr style=\"text-align: right;\">\n",
       "      <th></th>\n",
       "      <th>i</th>\n",
       "      <th>symbol</th>\n",
       "      <th>advice</th>\n",
       "      <th>price</th>\n",
       "      <th>price_nok</th>\n",
       "      <th>volume</th>\n",
       "    </tr>\n",
       "  </thead>\n",
       "  <tbody>\n",
       "    <tr>\n",
       "      <td>0</td>\n",
       "      <td>1</td>\n",
       "      <td>ATVI</td>\n",
       "      <td>False</td>\n",
       "      <td>73.08</td>\n",
       "      <td>731.054681</td>\n",
       "      <td>5160900</td>\n",
       "    </tr>\n",
       "    <tr>\n",
       "      <td>1</td>\n",
       "      <td>2</td>\n",
       "      <td>ADBE</td>\n",
       "      <td>False</td>\n",
       "      <td>385.26</td>\n",
       "      <td>3853.942616</td>\n",
       "      <td>1687300</td>\n",
       "    </tr>\n",
       "    <tr>\n",
       "      <td>2</td>\n",
       "      <td>3</td>\n",
       "      <td>AMD</td>\n",
       "      <td>False</td>\n",
       "      <td>55.17</td>\n",
       "      <td>551.892265</td>\n",
       "      <td>43465700</td>\n",
       "    </tr>\n",
       "    <tr>\n",
       "      <td>3</td>\n",
       "      <td>4</td>\n",
       "      <td>ALGN</td>\n",
       "      <td>False</td>\n",
       "      <td>243.74</td>\n",
       "      <td>2438.249424</td>\n",
       "      <td>967900</td>\n",
       "    </tr>\n",
       "    <tr>\n",
       "      <td>4</td>\n",
       "      <td>5</td>\n",
       "      <td>ALXN</td>\n",
       "      <td>False</td>\n",
       "      <td>101.50</td>\n",
       "      <td>1015.353723</td>\n",
       "      <td>1064000</td>\n",
       "    </tr>\n",
       "    <tr>\n",
       "      <td>...</td>\n",
       "      <td>...</td>\n",
       "      <td>...</td>\n",
       "      <td>...</td>\n",
       "      <td>...</td>\n",
       "      <td>...</td>\n",
       "      <td>...</td>\n",
       "    </tr>\n",
       "    <tr>\n",
       "      <td>95</td>\n",
       "      <td>96</td>\n",
       "      <td>WDC</td>\n",
       "      <td>False</td>\n",
       "      <td>42.42</td>\n",
       "      <td>424.347832</td>\n",
       "      <td>3429400</td>\n",
       "    </tr>\n",
       "    <tr>\n",
       "      <td>96</td>\n",
       "      <td>97</td>\n",
       "      <td>WDAY</td>\n",
       "      <td>False</td>\n",
       "      <td>168.15</td>\n",
       "      <td>1682.085996</td>\n",
       "      <td>2657300</td>\n",
       "    </tr>\n",
       "    <tr>\n",
       "      <td>97</td>\n",
       "      <td>98</td>\n",
       "      <td>WYNN</td>\n",
       "      <td>False</td>\n",
       "      <td>78.25</td>\n",
       "      <td>782.772698</td>\n",
       "      <td>7764900</td>\n",
       "    </tr>\n",
       "    <tr>\n",
       "      <td>98</td>\n",
       "      <td>99</td>\n",
       "      <td>XEL</td>\n",
       "      <td>False</td>\n",
       "      <td>60.37</td>\n",
       "      <td>603.910387</td>\n",
       "      <td>2018200</td>\n",
       "    </tr>\n",
       "    <tr>\n",
       "      <td>99</td>\n",
       "      <td>100</td>\n",
       "      <td>XLNX</td>\n",
       "      <td>False</td>\n",
       "      <td>86.59</td>\n",
       "      <td>866.201763</td>\n",
       "      <td>1903600</td>\n",
       "    </tr>\n",
       "  </tbody>\n",
       "</table>\n",
       "<p>100 rows × 6 columns</p>\n",
       "</div>"
      ],
      "text/plain": [
       "      i symbol  advice   price    price_nok    volume\n",
       "0     1   ATVI   False   73.08   731.054681   5160900\n",
       "1     2   ADBE   False  385.26  3853.942616   1687300\n",
       "2     3    AMD   False   55.17   551.892265  43465700\n",
       "3     4   ALGN   False  243.74  2438.249424    967900\n",
       "4     5   ALXN   False  101.50  1015.353723   1064000\n",
       "..  ...    ...     ...     ...          ...       ...\n",
       "95   96    WDC   False   42.42   424.347832   3429400\n",
       "96   97   WDAY   False  168.15  1682.085996   2657300\n",
       "97   98   WYNN   False   78.25   782.772698   7764900\n",
       "98   99    XEL   False   60.37   603.910387   2018200\n",
       "99  100   XLNX   False   86.59   866.201763   1903600\n",
       "\n",
       "[100 rows x 6 columns]"
      ]
     },
     "execution_count": 10,
     "metadata": {},
     "output_type": "execute_result"
    }
   ],
   "source": [
    "price_nok = df[df['i'] == n]['price_nok'].values[0]\n",
    "symbol = df[df['i'] == n]['symbol'].values[0]\n",
    "df"
   ]
  },
  {
   "cell_type": "code",
   "execution_count": 11,
   "metadata": {},
   "outputs": [
    {
     "name": "stdout",
     "output_type": "stream",
     "text": [
      "Ticker: NFLX at equivalent: 4294.696 NOK\n",
      "How many stocks do you want to buy? 10\n"
     ]
    }
   ],
   "source": [
    "print('Ticker: {} at equivalent: {} NOK'.format(symbol, round(price_nok, 3)))\n",
    "y = inputNumber('How many stocks do you want to buy? ')\n",
    "df.loc[df['i'] == n, 'quantity'] = y"
   ]
  },
  {
   "cell_type": "code",
   "execution_count": 12,
   "metadata": {},
   "outputs": [
    {
     "data": {
      "text/html": [
       "<div>\n",
       "<style scoped>\n",
       "    .dataframe tbody tr th:only-of-type {\n",
       "        vertical-align: middle;\n",
       "    }\n",
       "\n",
       "    .dataframe tbody tr th {\n",
       "        vertical-align: top;\n",
       "    }\n",
       "\n",
       "    .dataframe thead th {\n",
       "        text-align: right;\n",
       "    }\n",
       "</style>\n",
       "<table border=\"1\" class=\"dataframe\">\n",
       "  <thead>\n",
       "    <tr style=\"text-align: right;\">\n",
       "      <th></th>\n",
       "      <th>i</th>\n",
       "      <th>symbol</th>\n",
       "      <th>advice</th>\n",
       "      <th>price</th>\n",
       "      <th>price_nok</th>\n",
       "      <th>volume</th>\n",
       "      <th>quantity</th>\n",
       "      <th>total_nett_price</th>\n",
       "    </tr>\n",
       "  </thead>\n",
       "  <tbody>\n",
       "    <tr>\n",
       "      <td>0</td>\n",
       "      <td>1</td>\n",
       "      <td>ATVI</td>\n",
       "      <td>False</td>\n",
       "      <td>73.08</td>\n",
       "      <td>731.054681</td>\n",
       "      <td>5160900</td>\n",
       "      <td>NaN</td>\n",
       "      <td>NaN</td>\n",
       "    </tr>\n",
       "    <tr>\n",
       "      <td>1</td>\n",
       "      <td>2</td>\n",
       "      <td>ADBE</td>\n",
       "      <td>False</td>\n",
       "      <td>385.26</td>\n",
       "      <td>3853.942616</td>\n",
       "      <td>1687300</td>\n",
       "      <td>NaN</td>\n",
       "      <td>NaN</td>\n",
       "    </tr>\n",
       "    <tr>\n",
       "      <td>2</td>\n",
       "      <td>3</td>\n",
       "      <td>AMD</td>\n",
       "      <td>False</td>\n",
       "      <td>55.17</td>\n",
       "      <td>551.892265</td>\n",
       "      <td>43465700</td>\n",
       "      <td>NaN</td>\n",
       "      <td>NaN</td>\n",
       "    </tr>\n",
       "    <tr>\n",
       "      <td>3</td>\n",
       "      <td>4</td>\n",
       "      <td>ALGN</td>\n",
       "      <td>False</td>\n",
       "      <td>243.74</td>\n",
       "      <td>2438.249424</td>\n",
       "      <td>967900</td>\n",
       "      <td>NaN</td>\n",
       "      <td>NaN</td>\n",
       "    </tr>\n",
       "    <tr>\n",
       "      <td>4</td>\n",
       "      <td>5</td>\n",
       "      <td>ALXN</td>\n",
       "      <td>False</td>\n",
       "      <td>101.50</td>\n",
       "      <td>1015.353723</td>\n",
       "      <td>1064000</td>\n",
       "      <td>NaN</td>\n",
       "      <td>NaN</td>\n",
       "    </tr>\n",
       "    <tr>\n",
       "      <td>...</td>\n",
       "      <td>...</td>\n",
       "      <td>...</td>\n",
       "      <td>...</td>\n",
       "      <td>...</td>\n",
       "      <td>...</td>\n",
       "      <td>...</td>\n",
       "      <td>...</td>\n",
       "      <td>...</td>\n",
       "    </tr>\n",
       "    <tr>\n",
       "      <td>95</td>\n",
       "      <td>96</td>\n",
       "      <td>WDC</td>\n",
       "      <td>False</td>\n",
       "      <td>42.42</td>\n",
       "      <td>424.347832</td>\n",
       "      <td>3429400</td>\n",
       "      <td>NaN</td>\n",
       "      <td>NaN</td>\n",
       "    </tr>\n",
       "    <tr>\n",
       "      <td>96</td>\n",
       "      <td>97</td>\n",
       "      <td>WDAY</td>\n",
       "      <td>False</td>\n",
       "      <td>168.15</td>\n",
       "      <td>1682.085996</td>\n",
       "      <td>2657300</td>\n",
       "      <td>NaN</td>\n",
       "      <td>NaN</td>\n",
       "    </tr>\n",
       "    <tr>\n",
       "      <td>97</td>\n",
       "      <td>98</td>\n",
       "      <td>WYNN</td>\n",
       "      <td>False</td>\n",
       "      <td>78.25</td>\n",
       "      <td>782.772698</td>\n",
       "      <td>7764900</td>\n",
       "      <td>NaN</td>\n",
       "      <td>NaN</td>\n",
       "    </tr>\n",
       "    <tr>\n",
       "      <td>98</td>\n",
       "      <td>99</td>\n",
       "      <td>XEL</td>\n",
       "      <td>False</td>\n",
       "      <td>60.37</td>\n",
       "      <td>603.910387</td>\n",
       "      <td>2018200</td>\n",
       "      <td>NaN</td>\n",
       "      <td>NaN</td>\n",
       "    </tr>\n",
       "    <tr>\n",
       "      <td>99</td>\n",
       "      <td>100</td>\n",
       "      <td>XLNX</td>\n",
       "      <td>False</td>\n",
       "      <td>86.59</td>\n",
       "      <td>866.201763</td>\n",
       "      <td>1903600</td>\n",
       "      <td>NaN</td>\n",
       "      <td>NaN</td>\n",
       "    </tr>\n",
       "  </tbody>\n",
       "</table>\n",
       "<p>100 rows × 8 columns</p>\n",
       "</div>"
      ],
      "text/plain": [
       "      i symbol  advice   price    price_nok    volume  quantity  \\\n",
       "0     1   ATVI   False   73.08   731.054681   5160900       NaN   \n",
       "1     2   ADBE   False  385.26  3853.942616   1687300       NaN   \n",
       "2     3    AMD   False   55.17   551.892265  43465700       NaN   \n",
       "3     4   ALGN   False  243.74  2438.249424    967900       NaN   \n",
       "4     5   ALXN   False  101.50  1015.353723   1064000       NaN   \n",
       "..  ...    ...     ...     ...          ...       ...       ...   \n",
       "95   96    WDC   False   42.42   424.347832   3429400       NaN   \n",
       "96   97   WDAY   False  168.15  1682.085996   2657300       NaN   \n",
       "97   98   WYNN   False   78.25   782.772698   7764900       NaN   \n",
       "98   99    XEL   False   60.37   603.910387   2018200       NaN   \n",
       "99  100   XLNX   False   86.59   866.201763   1903600       NaN   \n",
       "\n",
       "    total_nett_price  \n",
       "0                NaN  \n",
       "1                NaN  \n",
       "2                NaN  \n",
       "3                NaN  \n",
       "4                NaN  \n",
       "..               ...  \n",
       "95               NaN  \n",
       "96               NaN  \n",
       "97               NaN  \n",
       "98               NaN  \n",
       "99               NaN  \n",
       "\n",
       "[100 rows x 8 columns]"
      ]
     },
     "execution_count": 12,
     "metadata": {},
     "output_type": "execute_result"
    }
   ],
   "source": [
    "df.loc[df['i'] == n, 'total_nett_price'] = df.loc[df['i'] == n, 'quantity'] * df.loc[df['i'] == n, 'price_nok']\n",
    "df"
   ]
  },
  {
   "cell_type": "code",
   "execution_count": 13,
   "metadata": {},
   "outputs": [],
   "source": [
    "import numpy as np\n",
    "def bep(price, quantity):\n",
    "    \n",
    "    fixed_cost = 79\n",
    "    variable_cost = 0.001 \n",
    "    markup = 1.05\n",
    "    \n",
    "    cost_purchase = np.where(\n",
    "                    fixed_cost > variable_cost * quantity * price,\n",
    "                    fixed_cost, variable_cost * quantity * price)\n",
    "    \n",
    "    cost_selling = cost_purchase\n",
    "    \n",
    "    total_cost   = cost_purchase + cost_selling\n",
    "        \n",
    "    x = Symbol('x') # selling price\n",
    "    bep = solve(((x - price) * quantity / markup) - total_cost, x)\n",
    "    bep = bep[0]\n",
    "\n",
    "    # test assumption that fixed price \n",
    "    \n",
    "    cost_selling = np.where(\n",
    "                    fixed_cost > variable_cost * quantity * bep,\n",
    "                    fixed_cost, variable_cost * quantity * bep)\n",
    "    \n",
    "    total_cost   = cost_purchase + cost_selling\n",
    "\n",
    "    bep = solve(((x - price) * quantity / markup) - total_cost, x)\n",
    "    bep = bep[0]\n",
    "    \n",
    "    return bep, total_cost"
   ]
  },
  {
   "cell_type": "code",
   "execution_count": 20,
   "metadata": {},
   "outputs": [
    {
     "name": "stdout",
     "output_type": "stream",
     "text": [
      "price: 204.971406822204\n",
      "quanitity: 8.0\n"
     ]
    }
   ],
   "source": [
    "\n",
    "price = df.loc[df['i'] == n, 'price_nok'].values[0]\n",
    "print('price: {}'.format(price))\n",
    "\n",
    "quantity = df.loc[df['i'] == n,'quantity'].values[0]\n",
    "print('quanitity: {}'.format(quantity))\n",
    "\n",
    "price = df.loc[df['i'] == n, 'price_nok'].values[0]\n",
    "print('price: {}'.format(price))\n"
   ]
  },
  {
   "cell_type": "code",
   "execution_count": 15,
   "metadata": {},
   "outputs": [
    {
     "name": "stdout",
     "output_type": "stream",
     "text": [
      "Your break-even point is around: 4311.28616285548 nok:\n"
     ]
    }
   ],
   "source": [
    "quantity = df.loc[df['i'] == n, 'quantity'].values[0]\n",
    "bep, total_cost = bep(price_nok, quantity)\n",
    "\n",
    "df.loc[df['i'] == n,'bep'] = bep\n",
    "df.loc[df['i'] == n,'total_cost'] = total_cost\n",
    "\n",
    "print('Your break-even point is around: {} nok:'.format(bep))"
   ]
  },
  {
   "cell_type": "code",
   "execution_count": 16,
   "metadata": {},
   "outputs": [],
   "source": [
    "price = df.loc[df['i'] == n, 'price'].values[0]\n",
    "price_nok = df.loc[df['i'] == n, 'price_nok'].values[0]\n",
    "quantity = df.loc[df['i'] == n, 'quantity'].values[0]\n",
    "bep = df.loc[df['i'] == n, 'bep'].values[0]\n",
    "cost = df.loc[df['i'] == n, 'total_cost'].values[0]"
   ]
  },
  {
   "cell_type": "code",
   "execution_count": 17,
   "metadata": {},
   "outputs": [
    {
     "name": "stdout",
     "output_type": "stream",
     "text": [
      "RECEIPT\n",
      "---------------------------------------------------\n",
      "Ticker: NFLX at 2020-05-24\n",
      "Purchase at: 429.32 USD, equiv: 4294.696 NOK\n",
      "Number of stocks: # 10.0 for a cost of 158.0\n",
      "With a bep at: 4311.286 NOK\n",
      "---------------------------------------------------\n"
     ]
    }
   ],
   "source": [
    "print('RECEIPT')\n",
    "print('---------------------------------------------------')\n",
    "print('Ticker: {} at {}'.format(symbol, date.today()))\n",
    "print('Purchase at: {} USD, equiv: {} NOK'.format(round(price, 3), round(price_nok, 3)))\n",
    "print('Number of stocks: # {} for a cost of {}'.format(quantity, cost))\n",
    "print('With a bep at: {} NOK'.format(round(bep, 3)))\n",
    "print('---------------------------------------------------')"
   ]
  },
  {
   "cell_type": "code",
   "execution_count": null,
   "metadata": {},
   "outputs": [],
   "source": []
  },
  {
   "cell_type": "code",
   "execution_count": null,
   "metadata": {},
   "outputs": [],
   "source": []
  }
 ],
 "metadata": {
  "kernelspec": {
   "display_name": "Python 3",
   "language": "python",
   "name": "python3"
  },
  "language_info": {
   "codemirror_mode": {
    "name": "ipython",
    "version": 3
   },
   "file_extension": ".py",
   "mimetype": "text/x-python",
   "name": "python",
   "nbconvert_exporter": "python",
   "pygments_lexer": "ipython3",
   "version": "3.7.4"
  }
 },
 "nbformat": 4,
 "nbformat_minor": 2
}
